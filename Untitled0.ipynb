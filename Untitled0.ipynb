{
 "metadata": {
  "name": "",
  "signature": "sha256:6fa2440fb8180897c33a37800daf0bb43bdd73628deb0a9bd2f1378fb701f3a5"
 },
 "nbformat": 3,
 "nbformat_minor": 0,
 "worksheets": []
}